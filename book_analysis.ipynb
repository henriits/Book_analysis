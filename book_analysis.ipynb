{
 "cells": [
  {
   "cell_type": "markdown",
   "id": "0162a681-c918-43a7-b720-2f55a61b276e",
   "metadata": {},
   "source": [
    "# Load the book"
   ]
  },
  {
   "cell_type": "code",
   "execution_count": 13,
   "id": "a6bf651d-9390-4056-ad1a-e4fded5c5091",
   "metadata": {
    "tags": []
   },
   "outputs": [],
   "source": [
    "with open(\"miracle_in_the_andes.txt\", \"r\",encoding='utf-8') as file:\n",
    "    book = file.read()"
   ]
  },
  {
   "cell_type": "code",
   "execution_count": 14,
   "id": "8a87749d-a4f9-44be-b335-6903206c21d1",
   "metadata": {
    "tags": []
   },
   "outputs": [
    {
     "data": {
      "text/plain": [
       "str"
      ]
     },
     "execution_count": 14,
     "metadata": {},
     "output_type": "execute_result"
    }
   ],
   "source": [
    "type(book)"
   ]
  },
  {
   "cell_type": "markdown",
   "id": "24907d6b-9f8e-417f-9177-2ae6f0b69dfa",
   "metadata": {},
   "source": [
    "#  How many chapters?"
   ]
  },
  {
   "cell_type": "markdown",
   "id": "c2ad5c65-b2cb-437c-87ef-7b6bff061703",
   "metadata": {},
   "source": [
    "### with string methods"
   ]
  },
  {
   "cell_type": "code",
   "execution_count": 15,
   "id": "8f02fb0a-92ee-4254-b4b6-94acc2179a36",
   "metadata": {
    "tags": []
   },
   "outputs": [
    {
     "data": {
      "text/plain": [
       "11"
      ]
     },
     "execution_count": 15,
     "metadata": {},
     "output_type": "execute_result"
    }
   ],
   "source": [
    "book.count(\"Chapter\")"
   ]
  },
  {
   "cell_type": "markdown",
   "id": "9cdb2501-7eff-4a64-b858-e9295add73bf",
   "metadata": {},
   "source": [
    "### with regular expressions"
   ]
  },
  {
   "cell_type": "code",
   "execution_count": 26,
   "id": "ece688ec-aa22-4a67-8470-54210d19d2cb",
   "metadata": {
    "tags": []
   },
   "outputs": [],
   "source": [
    "import re"
   ]
  },
  {
   "cell_type": "code",
   "execution_count": 17,
   "id": "5a681dc9-b10a-4468-a2ba-73a0cd8dbbab",
   "metadata": {
    "tags": []
   },
   "outputs": [
    {
     "data": {
      "text/plain": [
       "10"
      ]
     },
     "execution_count": 17,
     "metadata": {},
     "output_type": "execute_result"
    }
   ],
   "source": [
    "pattern = re.compile(\"Chapter [0-9]+\")\n",
    "findings = re.findall(pattern, book)\n",
    "len(findings)"
   ]
  },
  {
   "cell_type": "markdown",
   "id": "9fbddd7f-8d9d-4a69-9d4e-c57ef2ff881d",
   "metadata": {},
   "source": [
    "# which are the sentences where \"love\" was used?"
   ]
  },
  {
   "cell_type": "markdown",
   "id": "11cb4936-7bfe-40a1-b28f-90f6aaf3b73c",
   "metadata": {},
   "source": [
    "### ^. means- everything but the ."
   ]
  },
  {
   "cell_type": "markdown",
   "id": "b6ca3baa-9bab-4537-93ee-c41230084864",
   "metadata": {},
   "source": [
    "#### [A-Z]{1}[^.]*[^a-zA-Z]+love[^a-zA-Z][^.]*.  \n",
    "  means letters start with A-Z {onetime}   - [A-Z]{1} \n",
    "  give me everything but.  [^.]\n",
    "* means more follows\n",
    " everything except a-zA-Z [^a-zA-Z]  \n",
    " infront of \"word\" \n",
    " everything except a-zA-Z  [^a-zA-Z]  \n",
    " everything except . [^.] \n",
    " more follows  *"
   ]
  },
  {
   "cell_type": "code",
   "execution_count": 18,
   "id": "b725ccd2-5bff-4020-ba14-b377df54490c",
   "metadata": {
    "tags": []
   },
   "outputs": [
    {
     "data": {
      "text/plain": [
       "67"
      ]
     },
     "execution_count": 18,
     "metadata": {},
     "output_type": "execute_result"
    }
   ],
   "source": [
    "pattern = re.compile(\"[A-Z]{1}[^.]*[^a-zA-Z]+love[^a-zA-Z][^.]*.\")\n",
    "findings = re.findall(pattern, book)\n",
    "len(findings)"
   ]
  },
  {
   "cell_type": "markdown",
   "id": "f4c2c409-38f5-4ec3-87b1-a4f3a314f9b9",
   "metadata": {},
   "source": [
    "# What are the most used words?"
   ]
  },
  {
   "cell_type": "code",
   "execution_count": 19,
   "id": "395a6d04-a518-43d6-b767-bd14f9c60e5b",
   "metadata": {
    "tags": []
   },
   "outputs": [],
   "source": [
    "pattern = re.compile(\"[a-zA-Z]+\")\n",
    "findings = re.findall(pattern,book.lower())\n",
    "d = {}\n",
    "for word in findings:\n",
    "    if word in d.keys():\n",
    "        d[word] = d[word] + 1\n",
    "    else:\n",
    "        d[word] = 1\n",
    "    "
   ]
  },
  {
   "cell_type": "code",
   "execution_count": 20,
   "id": "8bb38a3c-cd4c-43a6-96e7-e59b8946dce2",
   "metadata": {
    "tags": []
   },
   "outputs": [],
   "source": [
    "d_list = [(value,key) for (key, value) in d.items()]"
   ]
  },
  {
   "cell_type": "markdown",
   "id": "d68c2284-9c1f-4c0d-b04d-fff4cf1831b9",
   "metadata": {},
   "source": [
    "# extract the paragraphs where \"love\" was used.\n"
   ]
  },
  {
   "cell_type": "code",
   "execution_count": 25,
   "id": "4116e1b2-0587-4511-bf1b-1bd1b85a06b2",
   "metadata": {},
   "outputs": [
    {
     "data": {
      "text/plain": [
       "['Chapter', 'Before']"
      ]
     },
     "execution_count": 25,
     "metadata": {},
     "output_type": "execute_result"
    }
   ],
   "source": [
    "patterns = re.compile(\"[^\\n]+love[^\\n]+\")\n",
    "findings = re.findall(pattern, book)\n",
    "findings[:2]"
   ]
  },
  {
   "cell_type": "markdown",
   "id": "1684ce9d-ef69-4972-acab-99a0e32755a3",
   "metadata": {},
   "source": [
    "# extract the chapter titles"
   ]
  },
  {
   "cell_type": "code",
   "execution_count": 30,
   "id": "eb010381-8508-4cd4-b055-5772addcb2f5",
   "metadata": {
    "tags": []
   },
   "outputs": [
    {
     "data": {
      "text/plain": [
       "['Before',\n",
       " 'Everything Precious',\n",
       " 'A Promise',\n",
       " 'Breathe Once More',\n",
       " 'Abandoned',\n",
       " 'Tomb',\n",
       " 'East',\n",
       " 'The Opposite of Death',\n",
       " 'I See a Man',\n",
       " 'After']"
      ]
     },
     "execution_count": 30,
     "metadata": {},
     "output_type": "execute_result"
    }
   ],
   "source": [
    "import re\n",
    "pattern = re.compile(\"[a-zA-Z ,]+\\n\\n\")\n",
    "findings = re.findall(pattern, book)\n",
    "findings = [item.strip(\"\\n\\n\") for item in findings]\n",
    "findings"
   ]
  },
  {
   "cell_type": "markdown",
   "id": "efb834c0-9ab8-4e5c-bbdb-74e72a333d14",
   "metadata": {},
   "source": [
    "### method 2"
   ]
  },
  {
   "cell_type": "code",
   "execution_count": 32,
   "id": "280ee744-a864-482c-896f-536e63d0c38a",
   "metadata": {
    "tags": []
   },
   "outputs": [
    {
     "data": {
      "text/plain": [
       "['Before',\n",
       " 'Everything Precious',\n",
       " 'A Promise',\n",
       " 'Breathe Once More',\n",
       " 'Abandoned',\n",
       " 'Tomb',\n",
       " 'East',\n",
       " 'The Opposite of Death',\n",
       " 'I See a Man',\n",
       " 'After']"
      ]
     },
     "execution_count": 32,
     "metadata": {},
     "output_type": "execute_result"
    }
   ],
   "source": [
    "import re\n",
    "pattern = re.compile(\"([a-zA-Z ]+)\\n\\n\")\n",
    "findings = re.findall(pattern, book)\n",
    "findings"
   ]
  },
  {
   "cell_type": "markdown",
   "id": "37bfc5c2-88c2-406d-a65c-a44440bd3b77",
   "metadata": {},
   "source": [
    "# function that finds the occurrance of any word"
   ]
  },
  {
   "cell_type": "code",
   "execution_count": 33,
   "id": "2bf3c059-687c-47d4-9c01-4755a4c43f83",
   "metadata": {
    "tags": []
   },
   "outputs": [],
   "source": [
    "def find(w):\n",
    "    pattern = re.compile(\"[a-zA-Z]+\")\n",
    "    findings = re.findall(pattern, book.lower())\n",
    "    d = {}\n",
    "    for word in findings:\n",
    "        if word in d.keys():\n",
    "            d[word] = d[word] +1\n",
    "        else:\n",
    "            d[word] = 1\n",
    "    try:\n",
    "        return d[w]\n",
    "    except:\n",
    "        return f' The book does not contain word \"{w}\"'\n",
    "        "
   ]
  },
  {
   "cell_type": "code",
   "execution_count": 34,
   "id": "e8f8e78f-92e5-494f-9fa2-a3c29f076437",
   "metadata": {
    "tags": []
   },
   "outputs": [
    {
     "data": {
      "text/plain": [
       "83"
      ]
     },
     "execution_count": 34,
     "metadata": {},
     "output_type": "execute_result"
    }
   ],
   "source": [
    "find(\"love\")"
   ]
  }
 ],
 "metadata": {
  "kernelspec": {
   "display_name": "Python 3 (ipykernel)",
   "language": "python",
   "name": "python3"
  },
  "language_info": {
   "codemirror_mode": {
    "name": "ipython",
    "version": 3
   },
   "file_extension": ".py",
   "mimetype": "text/x-python",
   "name": "python",
   "nbconvert_exporter": "python",
   "pygments_lexer": "ipython3",
   "version": "3.10.9"
  }
 },
 "nbformat": 4,
 "nbformat_minor": 5
}
