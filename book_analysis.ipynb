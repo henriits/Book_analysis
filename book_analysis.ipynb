{
 "cells": [
  {
   "cell_type": "markdown",
   "id": "0162a681-c918-43a7-b720-2f55a61b276e",
   "metadata": {},
   "source": [
    "# Load the book"
   ]
  },
  {
   "cell_type": "code",
   "execution_count": 1,
   "id": "a6bf651d-9390-4056-ad1a-e4fded5c5091",
   "metadata": {
    "tags": []
   },
   "outputs": [],
   "source": [
    "with open(\"miracle_in_the_andes.txt\", \"r\",encoding='utf-8') as file:\n",
    "    book = file.read()"
   ]
  },
  {
   "cell_type": "code",
   "execution_count": 2,
   "id": "8a87749d-a4f9-44be-b335-6903206c21d1",
   "metadata": {
    "tags": []
   },
   "outputs": [
    {
     "data": {
      "text/plain": [
       "str"
      ]
     },
     "execution_count": 2,
     "metadata": {},
     "output_type": "execute_result"
    }
   ],
   "source": [
    "type(book)"
   ]
  },
  {
   "cell_type": "markdown",
   "id": "24907d6b-9f8e-417f-9177-2ae6f0b69dfa",
   "metadata": {},
   "source": [
    "#  How many chapters?"
   ]
  },
  {
   "cell_type": "markdown",
   "id": "c2ad5c65-b2cb-437c-87ef-7b6bff061703",
   "metadata": {},
   "source": [
    "### with string methods"
   ]
  },
  {
   "cell_type": "code",
   "execution_count": 3,
   "id": "8f02fb0a-92ee-4254-b4b6-94acc2179a36",
   "metadata": {
    "tags": []
   },
   "outputs": [
    {
     "data": {
      "text/plain": [
       "11"
      ]
     },
     "execution_count": 3,
     "metadata": {},
     "output_type": "execute_result"
    }
   ],
   "source": [
    "book.count(\"Chapter\")"
   ]
  },
  {
   "cell_type": "markdown",
   "id": "9cdb2501-7eff-4a64-b858-e9295add73bf",
   "metadata": {},
   "source": [
    "### with regular expressions"
   ]
  },
  {
   "cell_type": "code",
   "execution_count": 4,
   "id": "ece688ec-aa22-4a67-8470-54210d19d2cb",
   "metadata": {
    "tags": []
   },
   "outputs": [],
   "source": [
    "import re"
   ]
  },
  {
   "cell_type": "code",
   "execution_count": 5,
   "id": "5a681dc9-b10a-4468-a2ba-73a0cd8dbbab",
   "metadata": {
    "tags": []
   },
   "outputs": [
    {
     "data": {
      "text/plain": [
       "10"
      ]
     },
     "execution_count": 5,
     "metadata": {},
     "output_type": "execute_result"
    }
   ],
   "source": [
    "pattern = re.compile(\"Chapter [0-9]+\")\n",
    "findings = re.findall(pattern, book)\n",
    "len(findings)"
   ]
  },
  {
   "cell_type": "markdown",
   "id": "9fbddd7f-8d9d-4a69-9d4e-c57ef2ff881d",
   "metadata": {},
   "source": [
    "# which are the sentences where \"love\" was used?"
   ]
  },
  {
   "cell_type": "markdown",
   "id": "11cb4936-7bfe-40a1-b28f-90f6aaf3b73c",
   "metadata": {},
   "source": [
    "### ^. means- everything but the ."
   ]
  },
  {
   "cell_type": "markdown",
   "id": "b6ca3baa-9bab-4537-93ee-c41230084864",
   "metadata": {},
   "source": [
    "#### [A-Z]{1}[^.]*[^a-zA-Z]+love[^a-zA-Z][^.]*.  \n",
    "  means letters start with A-Z {onetime}   - [A-Z]{1} \n",
    "  give me everything but.  [^.]\n",
    "* means more follows\n",
    " everything except a-zA-Z [^a-zA-Z]  \n",
    " infront of \"word\" \n",
    " everything except a-zA-Z  [^a-zA-Z]  \n",
    " everything except . [^.] \n",
    " more follows  *"
   ]
  },
  {
   "cell_type": "code",
   "execution_count": 6,
   "id": "b725ccd2-5bff-4020-ba14-b377df54490c",
   "metadata": {
    "tags": []
   },
   "outputs": [
    {
     "data": {
      "text/plain": [
       "67"
      ]
     },
     "execution_count": 6,
     "metadata": {},
     "output_type": "execute_result"
    }
   ],
   "source": [
    "pattern = re.compile(\"[A-Z]{1}[^.]*[^a-zA-Z]+love[^a-zA-Z][^.]*.\")\n",
    "findings = re.findall(pattern, book)\n",
    "len(findings)"
   ]
  },
  {
   "cell_type": "markdown",
   "id": "f4c2c409-38f5-4ec3-87b1-a4f3a314f9b9",
   "metadata": {},
   "source": [
    "# What are the most used words?"
   ]
  },
  {
   "cell_type": "code",
   "execution_count": 7,
   "id": "395a6d04-a518-43d6-b767-bd14f9c60e5b",
   "metadata": {
    "tags": []
   },
   "outputs": [],
   "source": [
    "pattern = re.compile(\"[a-zA-Z]+\")\n",
    "findings = re.findall(pattern,book.lower())\n",
    "d = {}\n",
    "for word in findings:\n",
    "    if word in d.keys():\n",
    "        d[word] = d[word] + 1\n",
    "    else:\n",
    "        d[word] = 1\n",
    "    "
   ]
  },
  {
   "cell_type": "code",
   "execution_count": 8,
   "id": "8bb38a3c-cd4c-43a6-96e7-e59b8946dce2",
   "metadata": {
    "tags": []
   },
   "outputs": [],
   "source": [
    "d_list = [(value,key) for (key, value) in d.items()]"
   ]
  },
  {
   "cell_type": "code",
   "execution_count": 9,
   "id": "ecbd28df-180a-4601-b43c-c2374e9d0a42",
   "metadata": {
    "tags": []
   },
   "outputs": [
    {
     "data": {
      "text/plain": [
       "[(5346, 'the'), (2795, 'and'), (2729, 'i'), (2400, 'to'), (2060, 'of')]"
      ]
     },
     "execution_count": 9,
     "metadata": {},
     "output_type": "execute_result"
    }
   ],
   "source": [
    "d_list = sorted(d_list, reverse=True)\n",
    "d_list[:5]"
   ]
  },
  {
   "cell_type": "markdown",
   "id": "d68c2284-9c1f-4c0d-b04d-fff4cf1831b9",
   "metadata": {},
   "source": [
    "# extract the paragraphs where \"love\" was used.\n"
   ]
  },
  {
   "cell_type": "code",
   "execution_count": 10,
   "id": "4116e1b2-0587-4511-bf1b-1bd1b85a06b2",
   "metadata": {},
   "outputs": [
    {
     "data": {
      "text/plain": [
       "['Chapter', 'Before']"
      ]
     },
     "execution_count": 10,
     "metadata": {},
     "output_type": "execute_result"
    }
   ],
   "source": [
    "patterns = re.compile(\"[^\\n]+love[^\\n]+\")\n",
    "findings = re.findall(pattern, book)\n",
    "findings[:2]"
   ]
  },
  {
   "cell_type": "markdown",
   "id": "1684ce9d-ef69-4972-acab-99a0e32755a3",
   "metadata": {},
   "source": [
    "# extract the chapter titles"
   ]
  },
  {
   "cell_type": "code",
   "execution_count": 11,
   "id": "eb010381-8508-4cd4-b055-5772addcb2f5",
   "metadata": {
    "tags": []
   },
   "outputs": [
    {
     "data": {
      "text/plain": [
       "['Before',\n",
       " 'Everything Precious',\n",
       " 'A Promise',\n",
       " 'Breathe Once More',\n",
       " 'Abandoned',\n",
       " 'Tomb',\n",
       " 'East',\n",
       " 'The Opposite of Death',\n",
       " 'I See a Man',\n",
       " 'After']"
      ]
     },
     "execution_count": 11,
     "metadata": {},
     "output_type": "execute_result"
    }
   ],
   "source": [
    "import re\n",
    "pattern = re.compile(\"[a-zA-Z ,]+\\n\\n\")\n",
    "findings = re.findall(pattern, book)\n",
    "findings = [item.strip(\"\\n\\n\") for item in findings]\n",
    "findings"
   ]
  },
  {
   "cell_type": "markdown",
   "id": "efb834c0-9ab8-4e5c-bbdb-74e72a333d14",
   "metadata": {},
   "source": [
    "### method 2"
   ]
  },
  {
   "cell_type": "code",
   "execution_count": 20,
   "id": "280ee744-a864-482c-896f-536e63d0c38a",
   "metadata": {
    "tags": []
   },
   "outputs": [
    {
     "data": {
      "text/plain": [
       "['Before',\n",
       " 'Everything Precious',\n",
       " 'A Promise',\n",
       " 'Breathe Once More',\n",
       " 'Abandoned',\n",
       " 'Tomb',\n",
       " 'East',\n",
       " 'The Opposite of Death',\n",
       " 'I See a Man',\n",
       " 'After']"
      ]
     },
     "execution_count": 20,
     "metadata": {},
     "output_type": "execute_result"
    }
   ],
   "source": [
    "import re\n",
    "pattern = re.compile(\"([a-zA-Z ]+)\\n\\n\")\n",
    "findings = re.findall(pattern, book)\n",
    "findings"
   ]
  },
  {
   "cell_type": "markdown",
   "id": "37bfc5c2-88c2-406d-a65c-a44440bd3b77",
   "metadata": {},
   "source": [
    "# function that finds the occurrance of any word"
   ]
  },
  {
   "cell_type": "code",
   "execution_count": 21,
   "id": "2bf3c059-687c-47d4-9c01-4755a4c43f83",
   "metadata": {
    "tags": []
   },
   "outputs": [],
   "source": [
    "def find(w):\n",
    "    pattern = re.compile(\"[a-zA-Z]+\")\n",
    "    findings = re.findall(pattern, book.lower())\n",
    "    d = {}\n",
    "    for word in findings:\n",
    "        if word in d.keys():\n",
    "            d[word] = d[word] +1\n",
    "        else:\n",
    "            d[word] = 1\n",
    "    try:\n",
    "        return d[w]\n",
    "    except:\n",
    "        return f' The book does not contain word \"{w}\"'\n",
    "        "
   ]
  },
  {
   "cell_type": "code",
   "execution_count": 14,
   "id": "e8f8e78f-92e5-494f-9fa2-a3c29f076437",
   "metadata": {
    "tags": []
   },
   "outputs": [
    {
     "data": {
      "text/plain": [
       "83"
      ]
     },
     "execution_count": 14,
     "metadata": {},
     "output_type": "execute_result"
    }
   ],
   "source": [
    "find(\"love\")"
   ]
  },
  {
   "cell_type": "markdown",
   "id": "cc41826c-12b9-4772-973a-d70ff7232611",
   "metadata": {},
   "source": [
    "# Most used non-stop words (articles)"
   ]
  },
  {
   "cell_type": "code",
   "execution_count": 22,
   "id": "e2def655-9a6c-436f-8d54-55f18fc44900",
   "metadata": {
    "tags": []
   },
   "outputs": [],
   "source": [
    "pattern = re.compile(\"[a-zA-Z]+\")\n",
    "findings = re.findall(pattern,book.lower())\n",
    "d = {}\n",
    "for word in findings:\n",
    "    if word in d.keys():\n",
    "        d[word] = d[word] + 1\n",
    "    else:\n",
    "        d[word] = 1"
   ]
  },
  {
   "cell_type": "code",
   "execution_count": null,
   "id": "1c835cea-f98b-4b50-adf7-b25460b5886b",
   "metadata": {},
   "outputs": [],
   "source": []
  },
  {
   "cell_type": "code",
   "execution_count": null,
   "id": "32971469-4989-400e-bbd7-2c8a3a3c7844",
   "metadata": {},
   "outputs": [],
   "source": []
  },
  {
   "cell_type": "code",
   "execution_count": 16,
   "id": "8e83a607-15bb-48ba-9b9f-725fa2f02a65",
   "metadata": {
    "tags": []
   },
   "outputs": [],
   "source": [
    "d_list = [(value,key) for (key, value) in d.items()]"
   ]
  },
  {
   "cell_type": "code",
   "execution_count": 17,
   "id": "28a3fc77-f3c6-4ee0-9083-88fc88fcb855",
   "metadata": {
    "tags": []
   },
   "outputs": [
    {
     "data": {
      "text/plain": [
       "[(5346, 'the'), (2795, 'and'), (2729, 'i'), (2400, 'to'), (2060, 'of')]"
      ]
     },
     "execution_count": 17,
     "metadata": {},
     "output_type": "execute_result"
    }
   ],
   "source": [
    "d_list = sorted(d_list, reverse=True)\n",
    "d_list[:5]"
   ]
  },
  {
   "cell_type": "code",
   "execution_count": 23,
   "id": "c12ba01e-ca86-4198-8a6d-29c7bed9c973",
   "metadata": {
    "tags": []
   },
   "outputs": [
    {
     "name": "stdout",
     "output_type": "stream",
     "text": [
      "Requirement already satisfied: nltk in c:\\pycharm projects\\book_analysis\\venv\\lib\\site-packages (3.8.1)\n",
      "Requirement already satisfied: joblib in c:\\pycharm projects\\book_analysis\\venv\\lib\\site-packages (from nltk) (1.2.0)\n",
      "Requirement already satisfied: regex>=2021.8.3 in c:\\pycharm projects\\book_analysis\\venv\\lib\\site-packages (from nltk) (2022.10.31)\n",
      "Requirement already satisfied: click in c:\\pycharm projects\\book_analysis\\venv\\lib\\site-packages (from nltk) (8.1.3)\n",
      "Requirement already satisfied: tqdm in c:\\pycharm projects\\book_analysis\\venv\\lib\\site-packages (from nltk) (4.64.1)\n",
      "Requirement already satisfied: colorama in c:\\pycharm projects\\book_analysis\\venv\\lib\\site-packages (from click->nltk) (0.4.6)\n"
     ]
    },
    {
     "name": "stderr",
     "output_type": "stream",
     "text": [
      "\n",
      "[notice] A new release of pip available: 22.3.1 -> 23.0\n",
      "[notice] To update, run: python.exe -m pip install --upgrade pip\n"
     ]
    }
   ],
   "source": [
    "!pip3.10 install nltk"
   ]
  },
  {
   "cell_type": "code",
   "execution_count": null,
   "id": "e36bd5b3-1459-4d01-a5c2-d0f88d5151bb",
   "metadata": {
    "tags": []
   },
   "outputs": [],
   "source": [
    "english_stopwords = stopwords.words(\"english\")"
   ]
  },
  {
   "cell_type": "code",
   "execution_count": 27,
   "id": "174374d5-2e21-4882-bdf8-8fb83d16c1b2",
   "metadata": {
    "tags": []
   },
   "outputs": [
    {
     "ename": "ModuleNotFoundError",
     "evalue": "No module named 'nltk'",
     "output_type": "error",
     "traceback": [
      "\u001b[1;31m---------------------------------------------------------------------------\u001b[0m",
      "\u001b[1;31mModuleNotFoundError\u001b[0m                       Traceback (most recent call last)",
      "Cell \u001b[1;32mIn[27], line 1\u001b[0m\n\u001b[1;32m----> 1\u001b[0m \u001b[38;5;28;01mimport\u001b[39;00m \u001b[38;5;21;01mnltk\u001b[39;00m\n\u001b[0;32m      2\u001b[0m \u001b[38;5;28;01mfrom\u001b[39;00m \u001b[38;5;21;01mnltk\u001b[39;00m\u001b[38;5;21;01m.\u001b[39;00m\u001b[38;5;21;01mcorpus\u001b[39;00m \u001b[38;5;28;01mimport\u001b[39;00m stopwords\n",
      "\u001b[1;31mModuleNotFoundError\u001b[0m: No module named 'nltk'"
     ]
    }
   ],
   "source": [
    "import nltk\n",
    "from nltk.corpus import stopwords"
   ]
  },
  {
   "cell_type": "code",
   "execution_count": 30,
   "id": "51dda073-96c7-4b10-850c-55674854dd67",
   "metadata": {
    "tags": []
   },
   "outputs": [
    {
     "ename": "NameError",
     "evalue": "name 'nltk' is not defined",
     "output_type": "error",
     "traceback": [
      "\u001b[1;31m---------------------------------------------------------------------------\u001b[0m",
      "\u001b[1;31mNameError\u001b[0m                                 Traceback (most recent call last)",
      "Cell \u001b[1;32mIn[30], line 1\u001b[0m\n\u001b[1;32m----> 1\u001b[0m \u001b[43mnltk\u001b[49m\u001b[38;5;241m.\u001b[39mdownload(\u001b[38;5;124m'\u001b[39m\u001b[38;5;124mstopwords\u001b[39m\u001b[38;5;124m'\u001b[39m)\n",
      "\u001b[1;31mNameError\u001b[0m: name 'nltk' is not defined"
     ]
    }
   ],
   "source": [
    "nltk.download('stopwords')"
   ]
  },
  {
   "cell_type": "code",
   "execution_count": 28,
   "id": "fd893bdb-01a1-426f-b910-72fd9eacb49e",
   "metadata": {
    "tags": []
   },
   "outputs": [
    {
     "name": "stdout",
     "output_type": "stream",
     "text": [
      "Requirement already satisfied: nltk in c:\\users\\henri\\appdata\\local\\programs\\python\\python310\\lib\\site-packages (3.8.1)\n",
      "Requirement already satisfied: regex>=2021.8.3 in c:\\users\\henri\\appdata\\local\\programs\\python\\python310\\lib\\site-packages (from nltk) (2022.10.31)\n",
      "Requirement already satisfied: tqdm in c:\\users\\henri\\appdata\\local\\programs\\python\\python310\\lib\\site-packages (from nltk) (4.23.1)\n",
      "Requirement already satisfied: joblib in c:\\users\\henri\\appdata\\local\\programs\\python\\python310\\lib\\site-packages (from nltk) (1.2.0)\n",
      "Requirement already satisfied: click in c:\\users\\henri\\appdata\\local\\programs\\python\\python310\\lib\\site-packages (from nltk) (8.1.3)\n",
      "Requirement already satisfied: colorama in c:\\users\\henri\\appdata\\local\\programs\\python\\python310\\lib\\site-packages (from click->nltk) (0.4.6)\n"
     ]
    }
   ],
   "source": [
    "import sys\n",
    "!{sys.executable} -m pip install nltk"
   ]
  },
  {
   "cell_type": "code",
   "execution_count": 31,
   "id": "9d96765d-dd9b-4b72-ade8-b7dee6a2076b",
   "metadata": {
    "tags": []
   },
   "outputs": [
    {
     "ename": "NameError",
     "evalue": "name 'nltk' is not defined",
     "output_type": "error",
     "traceback": [
      "\u001b[1;31m---------------------------------------------------------------------------\u001b[0m",
      "\u001b[1;31mNameError\u001b[0m                                 Traceback (most recent call last)",
      "Cell \u001b[1;32mIn[31], line 1\u001b[0m\n\u001b[1;32m----> 1\u001b[0m \u001b[43mnltk\u001b[49m\u001b[38;5;241m.\u001b[39mdownload(\u001b[38;5;124m'\u001b[39m\u001b[38;5;124mstopwords\u001b[39m\u001b[38;5;124m'\u001b[39m)\n",
      "\u001b[1;31mNameError\u001b[0m: name 'nltk' is not defined"
     ]
    }
   ],
   "source": [
    "nltk.download('stopwords')"
   ]
  },
  {
   "cell_type": "code",
   "execution_count": 32,
   "id": "7718e8c5-efc8-4d9f-bbfb-14eed2e0a4b5",
   "metadata": {
    "tags": []
   },
   "outputs": [],
   "source": [
    "import nltk\n",
    "from nltk.corpus import stopwords"
   ]
  },
  {
   "cell_type": "code",
   "execution_count": 33,
   "id": "c32dbea3-05e4-4090-8fed-0e609c3f16e1",
   "metadata": {
    "tags": []
   },
   "outputs": [],
   "source": [
    "english_stopwords = stopwords.words(\"english\")"
   ]
  },
  {
   "cell_type": "code",
   "execution_count": 35,
   "id": "9b52cba2-fec6-49fc-909e-a0305c440887",
   "metadata": {
    "tags": []
   },
   "outputs": [],
   "source": [
    "filtered_words = []\n",
    "for count, wprds in d_list:\n",
    "    if word not in english_stopwords:\n",
    "        filtered_words.append((word,count))"
   ]
  },
  {
   "cell_type": "code",
   "execution_count": 36,
   "id": "c2841751-8750-43c4-a35e-8a0d6db519d9",
   "metadata": {
    "tags": []
   },
   "outputs": [
    {
     "data": {
      "text/plain": [
       "[('shrine', 5346),\n",
       " ('shrine', 2795),\n",
       " ('shrine', 2729),\n",
       " ('shrine', 2400),\n",
       " ('shrine', 2060),\n",
       " ('shrine', 1566),\n",
       " ('shrine', 1430),\n",
       " ('shrine', 1419),\n",
       " ('shrine', 1226),\n",
       " ('shrine', 1169),\n",
       " ('shrine', 1001),\n",
       " ('shrine', 946),\n",
       " ('shrine', 941),\n",
       " ('shrine', 800),\n",
       " ('shrine', 705),\n",
       " ('shrine', 700),\n",
       " ('shrine', 679),\n",
       " ('shrine', 632),\n",
       " ('shrine', 617),\n",
       " ('shrine', 576),\n",
       " ('shrine', 575),\n",
       " ('shrine', 530),\n",
       " ('shrine', 523),\n",
       " ('shrine', 519),\n",
       " ('shrine', 496),\n",
       " ('shrine', 481),\n",
       " ('shrine', 452),\n",
       " ('shrine', 420),\n",
       " ('shrine', 381),\n",
       " ('shrine', 373),\n",
       " ('shrine', 360),\n",
       " ('shrine', 350),\n",
       " ('shrine', 333),\n",
       " ('shrine', 320),\n",
       " ('shrine', 316),\n",
       " ('shrine', 292),\n",
       " ('shrine', 290),\n",
       " ('shrine', 284),\n",
       " ('shrine', 282),\n",
       " ('shrine', 275),\n",
       " ('shrine', 274),\n",
       " ('shrine', 273),\n",
       " ('shrine', 269),\n",
       " ('shrine', 260),\n",
       " ('shrine', 257),\n",
       " ('shrine', 252),\n",
       " ('shrine', 252),\n",
       " ('shrine', 251),\n",
       " ('shrine', 249),\n",
       " ('shrine', 229),\n",
       " ('shrine', 228),\n",
       " ('shrine', 227),\n",
       " ('shrine', 227),\n",
       " ('shrine', 209),\n",
       " ('shrine', 205),\n",
       " ('shrine', 201),\n",
       " ('shrine', 198),\n",
       " ('shrine', 198),\n",
       " ('shrine', 195),\n",
       " ('shrine', 183),\n",
       " ('shrine', 182),\n",
       " ('shrine', 181),\n",
       " ('shrine', 181),\n",
       " ('shrine', 177),\n",
       " ('shrine', 176),\n",
       " ('shrine', 174),\n",
       " ('shrine', 167),\n",
       " ('shrine', 165),\n",
       " ('shrine', 164),\n",
       " ('shrine', 164),\n",
       " ('shrine', 161),\n",
       " ('shrine', 161),\n",
       " ('shrine', 158),\n",
       " ('shrine', 156),\n",
       " ('shrine', 155),\n",
       " ('shrine', 153),\n",
       " ('shrine', 147),\n",
       " ('shrine', 140),\n",
       " ('shrine', 138),\n",
       " ('shrine', 137),\n",
       " ('shrine', 134),\n",
       " ('shrine', 134),\n",
       " ('shrine', 134),\n",
       " ('shrine', 134),\n",
       " ('shrine', 127),\n",
       " ('shrine', 127),\n",
       " ('shrine', 126),\n",
       " ('shrine', 126),\n",
       " ('shrine', 123),\n",
       " ('shrine', 121),\n",
       " ('shrine', 121),\n",
       " ('shrine', 118),\n",
       " ('shrine', 117),\n",
       " ('shrine', 116),\n",
       " ('shrine', 116),\n",
       " ('shrine', 115),\n",
       " ('shrine', 115),\n",
       " ('shrine', 114),\n",
       " ('shrine', 112),\n",
       " ('shrine', 112),\n",
       " ('shrine', 109),\n",
       " ('shrine', 106),\n",
       " ('shrine', 106),\n",
       " ('shrine', 105),\n",
       " ('shrine', 104),\n",
       " ('shrine', 103),\n",
       " ('shrine', 101),\n",
       " ('shrine', 100),\n",
       " ('shrine', 99),\n",
       " ('shrine', 98),\n",
       " ('shrine', 97),\n",
       " ('shrine', 97),\n",
       " ('shrine', 97),\n",
       " ('shrine', 97),\n",
       " ('shrine', 95),\n",
       " ('shrine', 95),\n",
       " ('shrine', 93),\n",
       " ('shrine', 93),\n",
       " ('shrine', 92),\n",
       " ('shrine', 92),\n",
       " ('shrine', 91),\n",
       " ('shrine', 90),\n",
       " ('shrine', 89),\n",
       " ('shrine', 89),\n",
       " ('shrine', 88),\n",
       " ('shrine', 88),\n",
       " ('shrine', 88),\n",
       " ('shrine', 88),\n",
       " ('shrine', 87),\n",
       " ('shrine', 87),\n",
       " ('shrine', 85),\n",
       " ('shrine', 84),\n",
       " ('shrine', 84),\n",
       " ('shrine', 83),\n",
       " ('shrine', 83),\n",
       " ('shrine', 83),\n",
       " ('shrine', 80),\n",
       " ('shrine', 80),\n",
       " ('shrine', 79),\n",
       " ('shrine', 79),\n",
       " ('shrine', 78),\n",
       " ('shrine', 78),\n",
       " ('shrine', 78),\n",
       " ('shrine', 78),\n",
       " ('shrine', 77),\n",
       " ('shrine', 77),\n",
       " ('shrine', 77),\n",
       " ('shrine', 77),\n",
       " ('shrine', 77),\n",
       " ('shrine', 76),\n",
       " ('shrine', 76),\n",
       " ('shrine', 76),\n",
       " ('shrine', 76),\n",
       " ('shrine', 75),\n",
       " ('shrine', 74),\n",
       " ('shrine', 74),\n",
       " ('shrine', 73),\n",
       " ('shrine', 73),\n",
       " ('shrine', 72),\n",
       " ('shrine', 72),\n",
       " ('shrine', 71),\n",
       " ('shrine', 71),\n",
       " ('shrine', 70),\n",
       " ('shrine', 70),\n",
       " ('shrine', 70),\n",
       " ('shrine', 69),\n",
       " ('shrine', 68),\n",
       " ('shrine', 68),\n",
       " ('shrine', 68),\n",
       " ('shrine', 67),\n",
       " ('shrine', 67),\n",
       " ('shrine', 67),\n",
       " ('shrine', 67),\n",
       " ('shrine', 67),\n",
       " ('shrine', 67),\n",
       " ('shrine', 67),\n",
       " ('shrine', 67),\n",
       " ('shrine', 66),\n",
       " ('shrine', 66),\n",
       " ('shrine', 65),\n",
       " ('shrine', 64),\n",
       " ('shrine', 64),\n",
       " ('shrine', 63),\n",
       " ('shrine', 63),\n",
       " ('shrine', 63),\n",
       " ('shrine', 62),\n",
       " ('shrine', 62),\n",
       " ('shrine', 62),\n",
       " ('shrine', 62),\n",
       " ('shrine', 61),\n",
       " ('shrine', 61),\n",
       " ('shrine', 60),\n",
       " ('shrine', 60),\n",
       " ('shrine', 59),\n",
       " ('shrine', 59),\n",
       " ('shrine', 58),\n",
       " ('shrine', 58),\n",
       " ('shrine', 58),\n",
       " ('shrine', 58),\n",
       " ('shrine', 58),\n",
       " ('shrine', 58),\n",
       " ('shrine', 57),\n",
       " ('shrine', 57),\n",
       " ('shrine', 57),\n",
       " ('shrine', 57),\n",
       " ('shrine', 57),\n",
       " ('shrine', 57),\n",
       " ('shrine', 56),\n",
       " ('shrine', 55),\n",
       " ('shrine', 55),\n",
       " ('shrine', 55),\n",
       " ('shrine', 54),\n",
       " ('shrine', 54),\n",
       " ('shrine', 54),\n",
       " ('shrine', 53),\n",
       " ('shrine', 53),\n",
       " ('shrine', 52),\n",
       " ('shrine', 52),\n",
       " ('shrine', 52),\n",
       " ('shrine', 51),\n",
       " ('shrine', 51),\n",
       " ('shrine', 51),\n",
       " ('shrine', 50),\n",
       " ('shrine', 50),\n",
       " ('shrine', 50),\n",
       " ('shrine', 50),\n",
       " ('shrine', 50),\n",
       " ('shrine', 49),\n",
       " ('shrine', 49),\n",
       " ('shrine', 49),\n",
       " ('shrine', 49),\n",
       " ('shrine', 49),\n",
       " ('shrine', 49),\n",
       " ('shrine', 49),\n",
       " ('shrine', 49),\n",
       " ('shrine', 48),\n",
       " ('shrine', 48),\n",
       " ('shrine', 48),\n",
       " ('shrine', 48),\n",
       " ('shrine', 48),\n",
       " ('shrine', 48),\n",
       " ('shrine', 48),\n",
       " ('shrine', 48),\n",
       " ('shrine', 48),\n",
       " ('shrine', 47),\n",
       " ('shrine', 47),\n",
       " ('shrine', 47),\n",
       " ('shrine', 47),\n",
       " ('shrine', 46),\n",
       " ('shrine', 46),\n",
       " ('shrine', 46),\n",
       " ('shrine', 46),\n",
       " ('shrine', 46),\n",
       " ('shrine', 46),\n",
       " ('shrine', 46),\n",
       " ('shrine', 46),\n",
       " ('shrine', 46),\n",
       " ('shrine', 45),\n",
       " ('shrine', 45),\n",
       " ('shrine', 45),\n",
       " ('shrine', 45),\n",
       " ('shrine', 45),\n",
       " ('shrine', 45),\n",
       " ('shrine', 45),\n",
       " ('shrine', 45),\n",
       " ('shrine', 45),\n",
       " ('shrine', 44),\n",
       " ('shrine', 44),\n",
       " ('shrine', 43),\n",
       " ('shrine', 43),\n",
       " ('shrine', 43),\n",
       " ('shrine', 43),\n",
       " ('shrine', 42),\n",
       " ('shrine', 42),\n",
       " ('shrine', 42),\n",
       " ('shrine', 42),\n",
       " ('shrine', 42),\n",
       " ('shrine', 41),\n",
       " ('shrine', 41),\n",
       " ('shrine', 41),\n",
       " ('shrine', 41),\n",
       " ('shrine', 40),\n",
       " ('shrine', 40),\n",
       " ('shrine', 40),\n",
       " ('shrine', 40),\n",
       " ('shrine', 40),\n",
       " ('shrine', 40),\n",
       " ('shrine', 39),\n",
       " ('shrine', 39),\n",
       " ('shrine', 39),\n",
       " ('shrine', 39),\n",
       " ('shrine', 39),\n",
       " ('shrine', 39),\n",
       " ('shrine', 39),\n",
       " ('shrine', 39),\n",
       " ('shrine', 38),\n",
       " ('shrine', 38),\n",
       " ('shrine', 38),\n",
       " ('shrine', 38),\n",
       " ('shrine', 38),\n",
       " ('shrine', 38),\n",
       " ('shrine', 37),\n",
       " ('shrine', 37),\n",
       " ('shrine', 37),\n",
       " ('shrine', 37),\n",
       " ('shrine', 37),\n",
       " ('shrine', 36),\n",
       " ('shrine', 36),\n",
       " ('shrine', 36),\n",
       " ('shrine', 36),\n",
       " ('shrine', 36),\n",
       " ('shrine', 36),\n",
       " ('shrine', 36),\n",
       " ('shrine', 36),\n",
       " ('shrine', 36),\n",
       " ('shrine', 36),\n",
       " ('shrine', 36),\n",
       " ('shrine', 36),\n",
       " ('shrine', 36),\n",
       " ('shrine', 36),\n",
       " ('shrine', 35),\n",
       " ('shrine', 35),\n",
       " ('shrine', 35),\n",
       " ('shrine', 35),\n",
       " ('shrine', 34),\n",
       " ('shrine', 34),\n",
       " ('shrine', 34),\n",
       " ('shrine', 34),\n",
       " ('shrine', 34),\n",
       " ('shrine', 34),\n",
       " ('shrine', 34),\n",
       " ('shrine', 34),\n",
       " ('shrine', 34),\n",
       " ('shrine', 34),\n",
       " ('shrine', 34),\n",
       " ('shrine', 34),\n",
       " ('shrine', 34),\n",
       " ('shrine', 34),\n",
       " ('shrine', 33),\n",
       " ('shrine', 33),\n",
       " ('shrine', 33),\n",
       " ('shrine', 33),\n",
       " ('shrine', 32),\n",
       " ('shrine', 32),\n",
       " ('shrine', 32),\n",
       " ('shrine', 32),\n",
       " ('shrine', 32),\n",
       " ('shrine', 32),\n",
       " ('shrine', 32),\n",
       " ('shrine', 32),\n",
       " ('shrine', 32),\n",
       " ('shrine', 32),\n",
       " ('shrine', 32),\n",
       " ('shrine', 32),\n",
       " ('shrine', 32),\n",
       " ('shrine', 31),\n",
       " ('shrine', 31),\n",
       " ('shrine', 31),\n",
       " ('shrine', 31),\n",
       " ('shrine', 31),\n",
       " ('shrine', 31),\n",
       " ('shrine', 31),\n",
       " ('shrine', 31),\n",
       " ('shrine', 31),\n",
       " ('shrine', 31),\n",
       " ('shrine', 30),\n",
       " ('shrine', 30),\n",
       " ('shrine', 30),\n",
       " ('shrine', 30),\n",
       " ('shrine', 30),\n",
       " ('shrine', 30),\n",
       " ('shrine', 30),\n",
       " ('shrine', 29),\n",
       " ('shrine', 29),\n",
       " ('shrine', 29),\n",
       " ('shrine', 29),\n",
       " ('shrine', 29),\n",
       " ('shrine', 29),\n",
       " ('shrine', 29),\n",
       " ('shrine', 29),\n",
       " ('shrine', 29),\n",
       " ('shrine', 29),\n",
       " ('shrine', 29),\n",
       " ('shrine', 29),\n",
       " ('shrine', 29),\n",
       " ('shrine', 28),\n",
       " ('shrine', 28),\n",
       " ('shrine', 28),\n",
       " ('shrine', 28),\n",
       " ('shrine', 28),\n",
       " ('shrine', 28),\n",
       " ('shrine', 27),\n",
       " ('shrine', 27),\n",
       " ('shrine', 27),\n",
       " ('shrine', 27),\n",
       " ('shrine', 27),\n",
       " ('shrine', 27),\n",
       " ('shrine', 27),\n",
       " ('shrine', 27),\n",
       " ('shrine', 27),\n",
       " ('shrine', 27),\n",
       " ('shrine', 27),\n",
       " ('shrine', 27),\n",
       " ('shrine', 27),\n",
       " ('shrine', 27),\n",
       " ('shrine', 26),\n",
       " ('shrine', 26),\n",
       " ('shrine', 26),\n",
       " ('shrine', 26),\n",
       " ('shrine', 26),\n",
       " ('shrine', 26),\n",
       " ('shrine', 26),\n",
       " ('shrine', 26),\n",
       " ('shrine', 26),\n",
       " ('shrine', 26),\n",
       " ('shrine', 26),\n",
       " ('shrine', 26),\n",
       " ('shrine', 26),\n",
       " ('shrine', 26),\n",
       " ('shrine', 26),\n",
       " ('shrine', 26),\n",
       " ('shrine', 26),\n",
       " ('shrine', 26),\n",
       " ('shrine', 25),\n",
       " ('shrine', 25),\n",
       " ('shrine', 25),\n",
       " ('shrine', 25),\n",
       " ('shrine', 25),\n",
       " ('shrine', 25),\n",
       " ('shrine', 25),\n",
       " ('shrine', 25),\n",
       " ('shrine', 25),\n",
       " ('shrine', 25),\n",
       " ('shrine', 25),\n",
       " ('shrine', 25),\n",
       " ('shrine', 24),\n",
       " ('shrine', 24),\n",
       " ('shrine', 24),\n",
       " ('shrine', 24),\n",
       " ('shrine', 24),\n",
       " ('shrine', 24),\n",
       " ('shrine', 24),\n",
       " ('shrine', 24),\n",
       " ('shrine', 24),\n",
       " ('shrine', 24),\n",
       " ('shrine', 24),\n",
       " ('shrine', 24),\n",
       " ('shrine', 24),\n",
       " ('shrine', 24),\n",
       " ('shrine', 24),\n",
       " ('shrine', 24),\n",
       " ('shrine', 24),\n",
       " ('shrine', 24),\n",
       " ('shrine', 24),\n",
       " ('shrine', 23),\n",
       " ('shrine', 23),\n",
       " ('shrine', 23),\n",
       " ('shrine', 23),\n",
       " ('shrine', 23),\n",
       " ('shrine', 23),\n",
       " ('shrine', 23),\n",
       " ('shrine', 23),\n",
       " ('shrine', 23),\n",
       " ('shrine', 23),\n",
       " ('shrine', 23),\n",
       " ('shrine', 23),\n",
       " ('shrine', 23),\n",
       " ('shrine', 23),\n",
       " ('shrine', 23),\n",
       " ('shrine', 23),\n",
       " ('shrine', 22),\n",
       " ('shrine', 22),\n",
       " ('shrine', 22),\n",
       " ('shrine', 22),\n",
       " ('shrine', 22),\n",
       " ('shrine', 22),\n",
       " ('shrine', 22),\n",
       " ('shrine', 22),\n",
       " ('shrine', 22),\n",
       " ('shrine', 22),\n",
       " ('shrine', 22),\n",
       " ('shrine', 22),\n",
       " ('shrine', 22),\n",
       " ('shrine', 22),\n",
       " ('shrine', 22),\n",
       " ('shrine', 22),\n",
       " ('shrine', 22),\n",
       " ('shrine', 22),\n",
       " ('shrine', 22),\n",
       " ('shrine', 22),\n",
       " ('shrine', 22),\n",
       " ('shrine', 22),\n",
       " ('shrine', 21),\n",
       " ('shrine', 21),\n",
       " ('shrine', 21),\n",
       " ('shrine', 21),\n",
       " ('shrine', 21),\n",
       " ('shrine', 21),\n",
       " ('shrine', 21),\n",
       " ('shrine', 21),\n",
       " ('shrine', 21),\n",
       " ('shrine', 21),\n",
       " ('shrine', 21),\n",
       " ('shrine', 21),\n",
       " ('shrine', 21),\n",
       " ('shrine', 21),\n",
       " ('shrine', 21),\n",
       " ('shrine', 21),\n",
       " ('shrine', 21),\n",
       " ('shrine', 21),\n",
       " ('shrine', 21),\n",
       " ('shrine', 21),\n",
       " ('shrine', 20),\n",
       " ('shrine', 20),\n",
       " ('shrine', 20),\n",
       " ('shrine', 20),\n",
       " ('shrine', 20),\n",
       " ('shrine', 20),\n",
       " ('shrine', 20),\n",
       " ('shrine', 20),\n",
       " ('shrine', 20),\n",
       " ('shrine', 20),\n",
       " ('shrine', 20),\n",
       " ('shrine', 20),\n",
       " ('shrine', 20),\n",
       " ('shrine', 20),\n",
       " ('shrine', 20),\n",
       " ('shrine', 20),\n",
       " ('shrine', 20),\n",
       " ('shrine', 20),\n",
       " ('shrine', 20),\n",
       " ('shrine', 20),\n",
       " ('shrine', 20),\n",
       " ('shrine', 20),\n",
       " ('shrine', 20),\n",
       " ('shrine', 20),\n",
       " ('shrine', 20),\n",
       " ('shrine', 20),\n",
       " ('shrine', 20),\n",
       " ('shrine', 19),\n",
       " ('shrine', 19),\n",
       " ('shrine', 19),\n",
       " ('shrine', 19),\n",
       " ('shrine', 19),\n",
       " ('shrine', 19),\n",
       " ('shrine', 19),\n",
       " ('shrine', 19),\n",
       " ('shrine', 19),\n",
       " ('shrine', 19),\n",
       " ('shrine', 19),\n",
       " ('shrine', 19),\n",
       " ('shrine', 19),\n",
       " ('shrine', 19),\n",
       " ('shrine', 19),\n",
       " ('shrine', 19),\n",
       " ('shrine', 19),\n",
       " ('shrine', 19),\n",
       " ('shrine', 18),\n",
       " ('shrine', 18),\n",
       " ('shrine', 18),\n",
       " ('shrine', 18),\n",
       " ('shrine', 18),\n",
       " ('shrine', 18),\n",
       " ('shrine', 18),\n",
       " ('shrine', 18),\n",
       " ('shrine', 18),\n",
       " ('shrine', 18),\n",
       " ('shrine', 18),\n",
       " ('shrine', 18),\n",
       " ('shrine', 18),\n",
       " ('shrine', 18),\n",
       " ('shrine', 18),\n",
       " ('shrine', 18),\n",
       " ('shrine', 18),\n",
       " ('shrine', 18),\n",
       " ('shrine', 18),\n",
       " ('shrine', 18),\n",
       " ('shrine', 18),\n",
       " ('shrine', 18),\n",
       " ('shrine', 18),\n",
       " ('shrine', 18),\n",
       " ('shrine', 18),\n",
       " ('shrine', 18),\n",
       " ('shrine', 18),\n",
       " ('shrine', 18),\n",
       " ('shrine', 17),\n",
       " ('shrine', 17),\n",
       " ('shrine', 17),\n",
       " ('shrine', 17),\n",
       " ('shrine', 17),\n",
       " ('shrine', 17),\n",
       " ('shrine', 17),\n",
       " ('shrine', 17),\n",
       " ('shrine', 17),\n",
       " ('shrine', 17),\n",
       " ('shrine', 17),\n",
       " ('shrine', 17),\n",
       " ('shrine', 17),\n",
       " ('shrine', 17),\n",
       " ('shrine', 17),\n",
       " ('shrine', 17),\n",
       " ('shrine', 17),\n",
       " ('shrine', 17),\n",
       " ('shrine', 17),\n",
       " ('shrine', 17),\n",
       " ('shrine', 17),\n",
       " ('shrine', 17),\n",
       " ('shrine', 17),\n",
       " ('shrine', 17),\n",
       " ('shrine', 17),\n",
       " ('shrine', 17),\n",
       " ('shrine', 17),\n",
       " ('shrine', 17),\n",
       " ('shrine', 17),\n",
       " ('shrine', 17),\n",
       " ('shrine', 17),\n",
       " ('shrine', 17),\n",
       " ('shrine', 17),\n",
       " ('shrine', 17),\n",
       " ('shrine', 17),\n",
       " ('shrine', 17),\n",
       " ('shrine', 17),\n",
       " ('shrine', 17),\n",
       " ('shrine', 17),\n",
       " ('shrine', 17),\n",
       " ('shrine', 17),\n",
       " ('shrine', 17),\n",
       " ('shrine', 17),\n",
       " ('shrine', 17),\n",
       " ('shrine', 17),\n",
       " ('shrine', 17),\n",
       " ('shrine', 17),\n",
       " ('shrine', 17),\n",
       " ('shrine', 17),\n",
       " ('shrine', 17),\n",
       " ('shrine', 16),\n",
       " ('shrine', 16),\n",
       " ('shrine', 16),\n",
       " ('shrine', 16),\n",
       " ('shrine', 16),\n",
       " ('shrine', 16),\n",
       " ('shrine', 16),\n",
       " ('shrine', 16),\n",
       " ('shrine', 16),\n",
       " ('shrine', 16),\n",
       " ('shrine', 16),\n",
       " ('shrine', 16),\n",
       " ('shrine', 16),\n",
       " ('shrine', 16),\n",
       " ('shrine', 16),\n",
       " ('shrine', 16),\n",
       " ('shrine', 16),\n",
       " ('shrine', 16),\n",
       " ('shrine', 16),\n",
       " ('shrine', 16),\n",
       " ('shrine', 16),\n",
       " ('shrine', 16),\n",
       " ('shrine', 16),\n",
       " ('shrine', 16),\n",
       " ('shrine', 16),\n",
       " ('shrine', 16),\n",
       " ('shrine', 16),\n",
       " ('shrine', 16),\n",
       " ('shrine', 16),\n",
       " ('shrine', 16),\n",
       " ('shrine', 16),\n",
       " ('shrine', 15),\n",
       " ('shrine', 15),\n",
       " ('shrine', 15),\n",
       " ('shrine', 15),\n",
       " ('shrine', 15),\n",
       " ('shrine', 15),\n",
       " ('shrine', 15),\n",
       " ('shrine', 15),\n",
       " ('shrine', 15),\n",
       " ('shrine', 15),\n",
       " ('shrine', 15),\n",
       " ('shrine', 15),\n",
       " ('shrine', 15),\n",
       " ('shrine', 15),\n",
       " ('shrine', 15),\n",
       " ('shrine', 15),\n",
       " ('shrine', 15),\n",
       " ('shrine', 15),\n",
       " ('shrine', 15),\n",
       " ('shrine', 15),\n",
       " ('shrine', 15),\n",
       " ('shrine', 15),\n",
       " ('shrine', 15),\n",
       " ('shrine', 15),\n",
       " ('shrine', 15),\n",
       " ('shrine', 15),\n",
       " ('shrine', 15),\n",
       " ('shrine', 15),\n",
       " ('shrine', 15),\n",
       " ('shrine', 15),\n",
       " ('shrine', 15),\n",
       " ('shrine', 15),\n",
       " ('shrine', 15),\n",
       " ('shrine', 15),\n",
       " ('shrine', 15),\n",
       " ('shrine', 15),\n",
       " ('shrine', 15),\n",
       " ('shrine', 15),\n",
       " ('shrine', 15),\n",
       " ('shrine', 15),\n",
       " ('shrine', 15),\n",
       " ('shrine', 15),\n",
       " ('shrine', 15),\n",
       " ('shrine', 14),\n",
       " ('shrine', 14),\n",
       " ('shrine', 14),\n",
       " ('shrine', 14),\n",
       " ('shrine', 14),\n",
       " ('shrine', 14),\n",
       " ('shrine', 14),\n",
       " ('shrine', 14),\n",
       " ('shrine', 14),\n",
       " ('shrine', 14),\n",
       " ('shrine', 14),\n",
       " ('shrine', 14),\n",
       " ('shrine', 14),\n",
       " ('shrine', 14),\n",
       " ('shrine', 14),\n",
       " ('shrine', 14),\n",
       " ('shrine', 14),\n",
       " ('shrine', 14),\n",
       " ('shrine', 14),\n",
       " ('shrine', 14),\n",
       " ('shrine', 14),\n",
       " ('shrine', 14),\n",
       " ('shrine', 14),\n",
       " ('shrine', 14),\n",
       " ('shrine', 14),\n",
       " ('shrine', 14),\n",
       " ('shrine', 14),\n",
       " ('shrine', 14),\n",
       " ('shrine', 14),\n",
       " ('shrine', 14),\n",
       " ('shrine', 14),\n",
       " ('shrine', 14),\n",
       " ('shrine', 14),\n",
       " ('shrine', 14),\n",
       " ('shrine', 14),\n",
       " ('shrine', 14),\n",
       " ('shrine', 14),\n",
       " ('shrine', 14),\n",
       " ('shrine', 14),\n",
       " ('shrine', 14),\n",
       " ('shrine', 13),\n",
       " ('shrine', 13),\n",
       " ('shrine', 13),\n",
       " ('shrine', 13),\n",
       " ('shrine', 13),\n",
       " ('shrine', 13),\n",
       " ('shrine', 13),\n",
       " ('shrine', 13),\n",
       " ('shrine', 13),\n",
       " ('shrine', 13),\n",
       " ('shrine', 13),\n",
       " ('shrine', 13),\n",
       " ('shrine', 13),\n",
       " ('shrine', 13),\n",
       " ('shrine', 13),\n",
       " ('shrine', 13),\n",
       " ('shrine', 13),\n",
       " ('shrine', 13),\n",
       " ('shrine', 13),\n",
       " ('shrine', 13),\n",
       " ('shrine', 13),\n",
       " ('shrine', 13),\n",
       " ('shrine', 13),\n",
       " ('shrine', 13),\n",
       " ('shrine', 13),\n",
       " ('shrine', 13),\n",
       " ('shrine', 13),\n",
       " ('shrine', 13),\n",
       " ('shrine', 13),\n",
       " ('shrine', 13),\n",
       " ('shrine', 13),\n",
       " ('shrine', 13),\n",
       " ('shrine', 13),\n",
       " ('shrine', 13),\n",
       " ('shrine', 13),\n",
       " ('shrine', 13),\n",
       " ('shrine', 13),\n",
       " ('shrine', 13),\n",
       " ('shrine', 13),\n",
       " ('shrine', 13),\n",
       " ('shrine', 13),\n",
       " ('shrine', 13),\n",
       " ('shrine', 13),\n",
       " ('shrine', 13),\n",
       " ('shrine', 13),\n",
       " ('shrine', 13),\n",
       " ('shrine', 13),\n",
       " ('shrine', 13),\n",
       " ('shrine', 13),\n",
       " ('shrine', 13),\n",
       " ('shrine', 13),\n",
       " ('shrine', 13),\n",
       " ('shrine', 13),\n",
       " ('shrine', 13),\n",
       " ('shrine', 13),\n",
       " ('shrine', 12),\n",
       " ('shrine', 12),\n",
       " ('shrine', 12),\n",
       " ('shrine', 12),\n",
       " ('shrine', 12),\n",
       " ('shrine', 12),\n",
       " ('shrine', 12),\n",
       " ('shrine', 12),\n",
       " ('shrine', 12),\n",
       " ('shrine', 12),\n",
       " ('shrine', 12),\n",
       " ('shrine', 12),\n",
       " ('shrine', 12),\n",
       " ('shrine', 12),\n",
       " ('shrine', 12),\n",
       " ('shrine', 12),\n",
       " ('shrine', 12),\n",
       " ('shrine', 12),\n",
       " ('shrine', 12),\n",
       " ('shrine', 12),\n",
       " ('shrine', 12),\n",
       " ('shrine', 12),\n",
       " ('shrine', 12),\n",
       " ('shrine', 12),\n",
       " ('shrine', 12),\n",
       " ('shrine', 12),\n",
       " ('shrine', 12),\n",
       " ('shrine', 12),\n",
       " ('shrine', 12),\n",
       " ('shrine', 12),\n",
       " ('shrine', 12),\n",
       " ('shrine', 12),\n",
       " ('shrine', 12),\n",
       " ('shrine', 12),\n",
       " ('shrine', 12),\n",
       " ('shrine', 12),\n",
       " ('shrine', 12),\n",
       " ('shrine', 12),\n",
       " ('shrine', 12),\n",
       " ('shrine', 12),\n",
       " ('shrine', 12),\n",
       " ('shrine', 12),\n",
       " ('shrine', 12),\n",
       " ('shrine', 12),\n",
       " ('shrine', 12),\n",
       " ('shrine', 12),\n",
       " ('shrine', 12),\n",
       " ('shrine', 12),\n",
       " ('shrine', 12),\n",
       " ('shrine', 12),\n",
       " ('shrine', 12),\n",
       " ('shrine', 12),\n",
       " ('shrine', 12),\n",
       " ('shrine', 12),\n",
       " ('shrine', 12),\n",
       " ('shrine', 12),\n",
       " ('shrine', 12),\n",
       " ('shrine', 12),\n",
       " ('shrine', 12),\n",
       " ('shrine', 11),\n",
       " ('shrine', 11),\n",
       " ('shrine', 11),\n",
       " ('shrine', 11),\n",
       " ('shrine', 11),\n",
       " ('shrine', 11),\n",
       " ('shrine', 11),\n",
       " ('shrine', 11),\n",
       " ('shrine', 11),\n",
       " ('shrine', 11),\n",
       " ('shrine', 11),\n",
       " ('shrine', 11),\n",
       " ('shrine', 11),\n",
       " ('shrine', 11),\n",
       " ('shrine', 11),\n",
       " ('shrine', 11),\n",
       " ('shrine', 11),\n",
       " ('shrine', 11),\n",
       " ('shrine', 11),\n",
       " ('shrine', 11),\n",
       " ('shrine', 11),\n",
       " ('shrine', 11),\n",
       " ('shrine', 11),\n",
       " ('shrine', 11),\n",
       " ('shrine', 11),\n",
       " ('shrine', 11),\n",
       " ('shrine', 11),\n",
       " ('shrine', 11),\n",
       " ('shrine', 11),\n",
       " ('shrine', 11),\n",
       " ('shrine', 11),\n",
       " ('shrine', 11),\n",
       " ('shrine', 11),\n",
       " ('shrine', 11),\n",
       " ('shrine', 11),\n",
       " ('shrine', 11),\n",
       " ('shrine', 11),\n",
       " ('shrine', 11),\n",
       " ('shrine', 11),\n",
       " ('shrine', 11),\n",
       " ('shrine', 11),\n",
       " ('shrine', 11),\n",
       " ('shrine', 11),\n",
       " ('shrine', 11),\n",
       " ('shrine', 11),\n",
       " ('shrine', 11),\n",
       " ('shrine', 11),\n",
       " ('shrine', 11),\n",
       " ('shrine', 11),\n",
       " ('shrine', 11),\n",
       " ('shrine', 11),\n",
       " ('shrine', 11),\n",
       " ('shrine', 11),\n",
       " ('shrine', 11),\n",
       " ('shrine', 11),\n",
       " ('shrine', 11),\n",
       " ('shrine', 11),\n",
       " ('shrine', 11),\n",
       " ('shrine', 11),\n",
       " ('shrine', 11),\n",
       " ('shrine', 11),\n",
       " ('shrine', 11),\n",
       " ('shrine', 11),\n",
       " ('shrine', 11),\n",
       " ('shrine', 11),\n",
       " ('shrine', 11),\n",
       " ('shrine', 11),\n",
       " ('shrine', 10),\n",
       " ('shrine', 10),\n",
       " ('shrine', 10),\n",
       " ('shrine', 10),\n",
       " ('shrine', 10),\n",
       " ('shrine', 10),\n",
       " ('shrine', 10),\n",
       " ('shrine', 10),\n",
       " ('shrine', 10),\n",
       " ('shrine', 10),\n",
       " ('shrine', 10),\n",
       " ('shrine', 10),\n",
       " ('shrine', 10),\n",
       " ('shrine', 10),\n",
       " ('shrine', 10),\n",
       " ('shrine', 10),\n",
       " ('shrine', 10),\n",
       " ('shrine', 10),\n",
       " ('shrine', 10),\n",
       " ('shrine', 10),\n",
       " ('shrine', 10),\n",
       " ('shrine', 10),\n",
       " ('shrine', 10),\n",
       " ('shrine', 10),\n",
       " ('shrine', 10),\n",
       " ('shrine', 10),\n",
       " ('shrine', 10),\n",
       " ('shrine', 10),\n",
       " ('shrine', 10),\n",
       " ('shrine', 10),\n",
       " ('shrine', 10),\n",
       " ('shrine', 10),\n",
       " ('shrine', 10),\n",
       " ('shrine', 10),\n",
       " ('shrine', 10),\n",
       " ('shrine', 10),\n",
       " ('shrine', 10),\n",
       " ('shrine', 10),\n",
       " ('shrine', 10),\n",
       " ('shrine', 10),\n",
       " ('shrine', 10),\n",
       " ('shrine', 10),\n",
       " ('shrine', 10),\n",
       " ('shrine', 10),\n",
       " ('shrine', 10),\n",
       " ('shrine', 10),\n",
       " ('shrine', 10),\n",
       " ('shrine', 10),\n",
       " ('shrine', 10),\n",
       " ('shrine', 10),\n",
       " ('shrine', 10),\n",
       " ('shrine', 10),\n",
       " ('shrine', 10),\n",
       " ('shrine', 10),\n",
       " ('shrine', 10),\n",
       " ('shrine', 10),\n",
       " ('shrine', 10),\n",
       " ('shrine', 10),\n",
       " ('shrine', 10),\n",
       " ('shrine', 10),\n",
       " ('shrine', 10),\n",
       " ('shrine', 10),\n",
       " ('shrine', 10),\n",
       " ('shrine', 10),\n",
       " ('shrine', 10),\n",
       " ('shrine', 10),\n",
       " ('shrine', 10),\n",
       " ('shrine', 9),\n",
       " ('shrine', 9),\n",
       " ('shrine', 9),\n",
       " ...]"
      ]
     },
     "execution_count": 36,
     "metadata": {},
     "output_type": "execute_result"
    }
   ],
   "source": [
    "filtered_words"
   ]
  }
 ],
 "metadata": {
  "kernelspec": {
   "display_name": "Python 3 (ipykernel)",
   "language": "python",
   "name": "python3"
  },
  "language_info": {
   "codemirror_mode": {
    "name": "ipython",
    "version": 3
   },
   "file_extension": ".py",
   "mimetype": "text/x-python",
   "name": "python",
   "nbconvert_exporter": "python",
   "pygments_lexer": "ipython3",
   "version": "3.10.9"
  }
 },
 "nbformat": 4,
 "nbformat_minor": 5
}
